{
  "nbformat": 4,
  "nbformat_minor": 0,
  "metadata": {
    "colab": {
      "name": "ML_ques2.ipynb",
      "provenance": [],
      "collapsed_sections": []
    },
    "kernelspec": {
      "name": "python3",
      "display_name": "Python 3"
    },
    "language_info": {
      "name": "python"
    }
  },
  "cells": [
    {
      "cell_type": "markdown",
      "metadata": {
        "id": "fe43zSKyzKIQ"
      },
      "source": [
        "##Problem 2 \n",
        "#### Part(c)\n",
        "#### Calculation for (a-i)"
      ]
    },
    {
      "cell_type": "code",
      "metadata": {
        "colab": {
          "base_uri": "https://localhost:8080/"
        },
        "id": "9wrxhvIge-TJ",
        "outputId": "4eb03227-eb8b-499c-b15f-d8d4c0d45a10"
      },
      "source": [
        "\n",
        "from scipy.linalg import svd\n",
        "import numpy as np\n",
        "from numpy.linalg import eig\n",
        "\n",
        "A = np.array([[1, 1], [1, 1], [1, -1]])\n",
        "\n",
        "U, s, VT = svd(A)\n",
        "print(\"Left singular vector = \\n\",np.around(U, decimals=1))\n",
        "print(\"\\nSigma = \",np.around(s, decimals=1))\n",
        "print(\"\\nRight singular vector = \\n\",np.around(VT, decimals=1))\n",
        "A = np.array([[1, 1], [1, 1], [1, -1]])\n",
        "AT=A.T\n",
        "AAT=np.dot(A,AT)\n",
        "w_AAT,v_AAT=eig(AAT)\n",
        "A = np.array([[1, 1], [1, 1], [1, -1]])\n",
        "AT=A.T\n",
        "ATA=np.dot(A.T,A)\n",
        "w_ATA,v_ATA=eig(ATA)\n",
        "print(\"Eigen vector of A * A^T is \\n\",np.around(v_AAT, decimals=1),\" \\n Interchanging column 2 column 3 and multipying it by -1 we will get\\n\",np.array([[-0.7, 0,-0.7], [-0.7, 0,0.7], [0,1, 0]]) )\n",
        "\n",
        "print(\"Which is equal to Right singular vector\")\n",
        "print(\"Eigen vector of A^T * A is \\n\",np.around(v_ATA, decimals=1), \"Which is equal to Left singular vector after multiplying matrix with -1 and interchanging rows\")"
      ],
      "execution_count": 32,
      "outputs": [
        {
          "output_type": "stream",
          "name": "stdout",
          "text": [
            "Left singular vector = \n",
            " [[-0.7 -0.  -0.7]\n",
            " [-0.7 -0.   0.7]\n",
            " [-0.   1.   0. ]]\n",
            "\n",
            "Sigma =  [2.  1.4]\n",
            "\n",
            "Right singular vector = \n",
            " [[-0.7 -0.7]\n",
            " [ 0.7 -0.7]]\n",
            "Eigen vector of A * A^T is \n",
            " [[ 0.7 -0.7  0. ]\n",
            " [ 0.7  0.7  0. ]\n",
            " [ 0.   0.   1. ]]  \n",
            " Interchanging column 2 column 3 and multipying it by -1 we will get\n",
            " [[-0.7  0.  -0.7]\n",
            " [-0.7  0.   0.7]\n",
            " [ 0.   1.   0. ]]\n",
            "Which is equal to Right singular vector\n",
            "Eigen vector of A^T * A is \n",
            " [[ 0.7 -0.7]\n",
            " [ 0.7  0.7]] Which is equal to Left singular vector after multiplying matrix with -1 and interchanging rows\n"
          ]
        }
      ]
    },
    {
      "cell_type": "markdown",
      "metadata": {
        "id": "kVvW-gRrzXPD"
      },
      "source": [
        "#### Calculation for (b-i)\n",
        "#### SInce we need only rank 1 so we need the eigenvalues associated with highest eigen value. SVD function gives us ordered values hence using SVD"
      ]
    },
    {
      "cell_type": "code",
      "metadata": {
        "colab": {
          "base_uri": "https://localhost:8080/"
        },
        "id": "ncErachA2uQo",
        "outputId": "86ac9809-92cf-4f9d-b731-467085d6bed3"
      },
      "source": [
        "A = np.array([[1, 1], [1, 1], [1, -1]])\n",
        "u, s, vh = np.linalg.svd(A, full_matrices=False)\n",
        "U1 = u[:,:1]\n",
        "S1 = np.diag(s[:1])\n",
        "V1 = vh[:1]\n",
        "rank1M = np.dot(U1, np.dot(S1, V1))\n",
        "print(\"Best rank approximation for A is\\n\",np.around(rank1M,decimals=1))\n",
        "print(\" The approximation error is \",np.sum(np.around(A-rank1M,decimals=1)**2))"
      ],
      "execution_count": 95,
      "outputs": [
        {
          "output_type": "stream",
          "name": "stdout",
          "text": [
            "Best rank approximation for A is\n",
            " [[1. 1.]\n",
            " [1. 1.]\n",
            " [0. 0.]]\n",
            " The approximation error is  2.0\n"
          ]
        }
      ]
    }
  ]
}